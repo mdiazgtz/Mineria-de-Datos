{
 "cells": [
  {
   "cell_type": "markdown",
   "metadata": {},
   "source": [
    "\n",
    "# UANL - FACULTAD DE CIENCIAS FÍSICO MATEMÁTICAS"
   ]
  },
  {
   "cell_type": "markdown",
   "metadata": {},
   "source": [
    "## Mineria de Datos\n"
   ]
  },
  {
   "cell_type": "markdown",
   "metadata": {},
   "source": [
    "### Precios de acción de Microsoft"
   ]
  },
  {
   "cell_type": "markdown",
   "metadata": {},
   "source": [
    "#### Introducción: Decidí elaborar un analisis sobre el precio de las acciones de Microsoft ya que este tipo de resgistros son 'sencillos' de conseguir, por así decirlo, el csv que se ve en el repositorio (Mineria-de-datos) es un registro que se descargo directamente de la página de yahoo-finanzas como CSV, son los precios de la acción de Microsoft en el periodo de abril 2020 - abril 2021. El analisis para este tipo de registros nos da una ligera introducción a lo que son los principios de analisis tecnico de un activo en materia de portafolios de inversión, una rama muy recurrida en el campo de las Ciencias Actuariales."
   ]
  },
  {
   "cell_type": "markdown",
   "metadata": {},
   "source": [
    "### Librerias Utilizadas"
   ]
  },
  {
   "cell_type": "code",
   "execution_count": 52,
   "metadata": {},
   "outputs": [],
   "source": [
    "import pandas as pd\n",
    "import numpy as np\n",
    "import matplotlib as plt\n",
    "import seaborn as sns"
   ]
  },
  {
   "cell_type": "markdown",
   "metadata": {},
   "source": [
    "## DATA ACQUISITION"
   ]
  },
  {
   "cell_type": "code",
   "execution_count": 25,
   "metadata": {},
   "outputs": [
    {
     "data": {
      "text/html": [
       "<div>\n",
       "<style scoped>\n",
       "    .dataframe tbody tr th:only-of-type {\n",
       "        vertical-align: middle;\n",
       "    }\n",
       "\n",
       "    .dataframe tbody tr th {\n",
       "        vertical-align: top;\n",
       "    }\n",
       "\n",
       "    .dataframe thead th {\n",
       "        text-align: right;\n",
       "    }\n",
       "</style>\n",
       "<table border=\"1\" class=\"dataframe\">\n",
       "  <thead>\n",
       "    <tr style=\"text-align: right;\">\n",
       "      <th></th>\n",
       "      <th>Date</th>\n",
       "      <th>Open</th>\n",
       "      <th>High</th>\n",
       "      <th>Low</th>\n",
       "      <th>Close</th>\n",
       "      <th>Adj Close</th>\n",
       "      <th>Volume</th>\n",
       "    </tr>\n",
       "  </thead>\n",
       "  <tbody>\n",
       "    <tr>\n",
       "      <th>0</th>\n",
       "      <td>2020-04-01</td>\n",
       "      <td>153.000000</td>\n",
       "      <td>157.750000</td>\n",
       "      <td>150.820007</td>\n",
       "      <td>152.110001</td>\n",
       "      <td>150.579803</td>\n",
       "      <td>57969900</td>\n",
       "    </tr>\n",
       "    <tr>\n",
       "      <th>1</th>\n",
       "      <td>2020-04-02</td>\n",
       "      <td>151.860001</td>\n",
       "      <td>155.479996</td>\n",
       "      <td>150.360001</td>\n",
       "      <td>155.259995</td>\n",
       "      <td>153.698120</td>\n",
       "      <td>49630700</td>\n",
       "    </tr>\n",
       "    <tr>\n",
       "      <th>2</th>\n",
       "      <td>2020-04-03</td>\n",
       "      <td>155.100006</td>\n",
       "      <td>157.380005</td>\n",
       "      <td>152.190002</td>\n",
       "      <td>153.830002</td>\n",
       "      <td>152.282501</td>\n",
       "      <td>41243300</td>\n",
       "    </tr>\n",
       "    <tr>\n",
       "      <th>3</th>\n",
       "      <td>2020-04-06</td>\n",
       "      <td>160.320007</td>\n",
       "      <td>166.500000</td>\n",
       "      <td>157.580002</td>\n",
       "      <td>165.270004</td>\n",
       "      <td>163.607422</td>\n",
       "      <td>67111700</td>\n",
       "    </tr>\n",
       "    <tr>\n",
       "      <th>4</th>\n",
       "      <td>2020-04-07</td>\n",
       "      <td>169.589996</td>\n",
       "      <td>170.000000</td>\n",
       "      <td>163.259995</td>\n",
       "      <td>163.490005</td>\n",
       "      <td>161.845322</td>\n",
       "      <td>62769000</td>\n",
       "    </tr>\n",
       "    <tr>\n",
       "      <th>...</th>\n",
       "      <td>...</td>\n",
       "      <td>...</td>\n",
       "      <td>...</td>\n",
       "      <td>...</td>\n",
       "      <td>...</td>\n",
       "      <td>...</td>\n",
       "      <td>...</td>\n",
       "    </tr>\n",
       "    <tr>\n",
       "      <th>248</th>\n",
       "      <td>2021-03-26</td>\n",
       "      <td>231.550003</td>\n",
       "      <td>236.710007</td>\n",
       "      <td>231.550003</td>\n",
       "      <td>236.479996</td>\n",
       "      <td>236.479996</td>\n",
       "      <td>25471700</td>\n",
       "    </tr>\n",
       "    <tr>\n",
       "      <th>249</th>\n",
       "      <td>2021-03-29</td>\n",
       "      <td>236.589996</td>\n",
       "      <td>236.800003</td>\n",
       "      <td>231.880005</td>\n",
       "      <td>235.240005</td>\n",
       "      <td>235.240005</td>\n",
       "      <td>25227500</td>\n",
       "    </tr>\n",
       "    <tr>\n",
       "      <th>250</th>\n",
       "      <td>2021-03-30</td>\n",
       "      <td>233.529999</td>\n",
       "      <td>233.850006</td>\n",
       "      <td>231.100006</td>\n",
       "      <td>231.850006</td>\n",
       "      <td>231.850006</td>\n",
       "      <td>24792000</td>\n",
       "    </tr>\n",
       "    <tr>\n",
       "      <th>251</th>\n",
       "      <td>2021-03-31</td>\n",
       "      <td>232.910004</td>\n",
       "      <td>239.100006</td>\n",
       "      <td>232.389999</td>\n",
       "      <td>235.770004</td>\n",
       "      <td>235.770004</td>\n",
       "      <td>43564500</td>\n",
       "    </tr>\n",
       "    <tr>\n",
       "      <th>252</th>\n",
       "      <td>2021-04-01</td>\n",
       "      <td>238.470001</td>\n",
       "      <td>242.639999</td>\n",
       "      <td>238.050095</td>\n",
       "      <td>242.350006</td>\n",
       "      <td>242.350006</td>\n",
       "      <td>28834292</td>\n",
       "    </tr>\n",
       "  </tbody>\n",
       "</table>\n",
       "<p>253 rows × 7 columns</p>\n",
       "</div>"
      ],
      "text/plain": [
       "           Date        Open        High         Low       Close   Adj Close  \\\n",
       "0    2020-04-01  153.000000  157.750000  150.820007  152.110001  150.579803   \n",
       "1    2020-04-02  151.860001  155.479996  150.360001  155.259995  153.698120   \n",
       "2    2020-04-03  155.100006  157.380005  152.190002  153.830002  152.282501   \n",
       "3    2020-04-06  160.320007  166.500000  157.580002  165.270004  163.607422   \n",
       "4    2020-04-07  169.589996  170.000000  163.259995  163.490005  161.845322   \n",
       "..          ...         ...         ...         ...         ...         ...   \n",
       "248  2021-03-26  231.550003  236.710007  231.550003  236.479996  236.479996   \n",
       "249  2021-03-29  236.589996  236.800003  231.880005  235.240005  235.240005   \n",
       "250  2021-03-30  233.529999  233.850006  231.100006  231.850006  231.850006   \n",
       "251  2021-03-31  232.910004  239.100006  232.389999  235.770004  235.770004   \n",
       "252  2021-04-01  238.470001  242.639999  238.050095  242.350006  242.350006   \n",
       "\n",
       "       Volume  \n",
       "0    57969900  \n",
       "1    49630700  \n",
       "2    41243300  \n",
       "3    67111700  \n",
       "4    62769000  \n",
       "..        ...  \n",
       "248  25471700  \n",
       "249  25227500  \n",
       "250  24792000  \n",
       "251  43564500  \n",
       "252  28834292  \n",
       "\n",
       "[253 rows x 7 columns]"
      ]
     },
     "execution_count": 25,
     "metadata": {},
     "output_type": "execute_result"
    }
   ],
   "source": [
    "df = pd.read_csv(\"C:\\\\Users\\\\familia\\\\Documents\\\\MSFT.csv\")\n",
    "df"
   ]
  },
  {
   "cell_type": "markdown",
   "metadata": {},
   "source": [
    "## DATA CLEANING"
   ]
  },
  {
   "cell_type": "code",
   "execution_count": 26,
   "metadata": {},
   "outputs": [
    {
     "name": "stdout",
     "output_type": "stream",
     "text": [
      "<class 'pandas.core.frame.DataFrame'>\n",
      "RangeIndex: 253 entries, 0 to 252\n",
      "Data columns (total 7 columns):\n",
      " #   Column     Non-Null Count  Dtype  \n",
      "---  ------     --------------  -----  \n",
      " 0   Date       253 non-null    object \n",
      " 1   Open       253 non-null    float64\n",
      " 2   High       253 non-null    float64\n",
      " 3   Low        253 non-null    float64\n",
      " 4   Close      253 non-null    float64\n",
      " 5   Adj Close  253 non-null    float64\n",
      " 6   Volume     253 non-null    int64  \n",
      "dtypes: float64(5), int64(1), object(1)\n",
      "memory usage: 14.0+ KB\n"
     ]
    }
   ],
   "source": [
    "#El dataFrame original esta lleno\n",
    "df.info()"
   ]
  },
  {
   "cell_type": "code",
   "execution_count": 27,
   "metadata": {},
   "outputs": [
    {
     "data": {
      "text/html": [
       "<div>\n",
       "<style scoped>\n",
       "    .dataframe tbody tr th:only-of-type {\n",
       "        vertical-align: middle;\n",
       "    }\n",
       "\n",
       "    .dataframe tbody tr th {\n",
       "        vertical-align: top;\n",
       "    }\n",
       "\n",
       "    .dataframe thead th {\n",
       "        text-align: right;\n",
       "    }\n",
       "</style>\n",
       "<table border=\"1\" class=\"dataframe\">\n",
       "  <thead>\n",
       "    <tr style=\"text-align: right;\">\n",
       "      <th></th>\n",
       "      <th>Date</th>\n",
       "      <th>Open</th>\n",
       "      <th>Adj Close</th>\n",
       "    </tr>\n",
       "  </thead>\n",
       "  <tbody>\n",
       "    <tr>\n",
       "      <th>0</th>\n",
       "      <td>2020-04-01</td>\n",
       "      <td>153.000000</td>\n",
       "      <td>150.579803</td>\n",
       "    </tr>\n",
       "    <tr>\n",
       "      <th>1</th>\n",
       "      <td>2020-04-02</td>\n",
       "      <td>151.860001</td>\n",
       "      <td>153.698120</td>\n",
       "    </tr>\n",
       "    <tr>\n",
       "      <th>2</th>\n",
       "      <td>2020-04-03</td>\n",
       "      <td>155.100006</td>\n",
       "      <td>152.282501</td>\n",
       "    </tr>\n",
       "    <tr>\n",
       "      <th>3</th>\n",
       "      <td>2020-04-06</td>\n",
       "      <td>160.320007</td>\n",
       "      <td>163.607422</td>\n",
       "    </tr>\n",
       "    <tr>\n",
       "      <th>4</th>\n",
       "      <td>2020-04-07</td>\n",
       "      <td>169.589996</td>\n",
       "      <td>161.845322</td>\n",
       "    </tr>\n",
       "    <tr>\n",
       "      <th>...</th>\n",
       "      <td>...</td>\n",
       "      <td>...</td>\n",
       "      <td>...</td>\n",
       "    </tr>\n",
       "    <tr>\n",
       "      <th>248</th>\n",
       "      <td>2021-03-26</td>\n",
       "      <td>231.550003</td>\n",
       "      <td>236.479996</td>\n",
       "    </tr>\n",
       "    <tr>\n",
       "      <th>249</th>\n",
       "      <td>2021-03-29</td>\n",
       "      <td>236.589996</td>\n",
       "      <td>235.240005</td>\n",
       "    </tr>\n",
       "    <tr>\n",
       "      <th>250</th>\n",
       "      <td>2021-03-30</td>\n",
       "      <td>233.529999</td>\n",
       "      <td>231.850006</td>\n",
       "    </tr>\n",
       "    <tr>\n",
       "      <th>251</th>\n",
       "      <td>2021-03-31</td>\n",
       "      <td>232.910004</td>\n",
       "      <td>235.770004</td>\n",
       "    </tr>\n",
       "    <tr>\n",
       "      <th>252</th>\n",
       "      <td>2021-04-01</td>\n",
       "      <td>238.470001</td>\n",
       "      <td>242.350006</td>\n",
       "    </tr>\n",
       "  </tbody>\n",
       "</table>\n",
       "<p>253 rows × 3 columns</p>\n",
       "</div>"
      ],
      "text/plain": [
       "           Date        Open   Adj Close\n",
       "0    2020-04-01  153.000000  150.579803\n",
       "1    2020-04-02  151.860001  153.698120\n",
       "2    2020-04-03  155.100006  152.282501\n",
       "3    2020-04-06  160.320007  163.607422\n",
       "4    2020-04-07  169.589996  161.845322\n",
       "..          ...         ...         ...\n",
       "248  2021-03-26  231.550003  236.479996\n",
       "249  2021-03-29  236.589996  235.240005\n",
       "250  2021-03-30  233.529999  231.850006\n",
       "251  2021-03-31  232.910004  235.770004\n",
       "252  2021-04-01  238.470001  242.350006\n",
       "\n",
       "[253 rows x 3 columns]"
      ]
     },
     "execution_count": 27,
     "metadata": {},
     "output_type": "execute_result"
    }
   ],
   "source": [
    "df1=df.drop(columns=['High','Low','Close','Volume'])\n",
    "df1"
   ]
  },
  {
   "cell_type": "markdown",
   "metadata": {},
   "source": [
    "## DATA PARSING"
   ]
  },
  {
   "cell_type": "code",
   "execution_count": 28,
   "metadata": {},
   "outputs": [
    {
     "data": {
      "text/plain": [
       "(253, 3)"
      ]
     },
     "execution_count": 28,
     "metadata": {},
     "output_type": "execute_result"
    }
   ],
   "source": [
    "df1.shape"
   ]
  },
  {
   "cell_type": "code",
   "execution_count": 29,
   "metadata": {},
   "outputs": [
    {
     "data": {
      "text/plain": [
       "Index(['Date', 'Open', 'Adj Close'], dtype='object')"
      ]
     },
     "execution_count": 29,
     "metadata": {},
     "output_type": "execute_result"
    }
   ],
   "source": [
    "df1.columns"
   ]
  },
  {
   "cell_type": "code",
   "execution_count": 30,
   "metadata": {},
   "outputs": [
    {
     "data": {
      "text/plain": [
       "Date          object\n",
       "Open         float64\n",
       "Adj Close    float64\n",
       "dtype: object"
      ]
     },
     "execution_count": 30,
     "metadata": {},
     "output_type": "execute_result"
    }
   ],
   "source": [
    "df1.dtypes"
   ]
  },
  {
   "cell_type": "markdown",
   "metadata": {},
   "source": [
    "## DESCRIPTIVE STATISTICS"
   ]
  },
  {
   "cell_type": "code",
   "execution_count": 31,
   "metadata": {},
   "outputs": [
    {
     "data": {
      "text/html": [
       "<div>\n",
       "<style scoped>\n",
       "    .dataframe tbody tr th:only-of-type {\n",
       "        vertical-align: middle;\n",
       "    }\n",
       "\n",
       "    .dataframe tbody tr th {\n",
       "        vertical-align: top;\n",
       "    }\n",
       "\n",
       "    .dataframe thead th {\n",
       "        text-align: right;\n",
       "    }\n",
       "</style>\n",
       "<table border=\"1\" class=\"dataframe\">\n",
       "  <thead>\n",
       "    <tr style=\"text-align: right;\">\n",
       "      <th></th>\n",
       "      <th>Open</th>\n",
       "      <th>Adj Close</th>\n",
       "    </tr>\n",
       "  </thead>\n",
       "  <tbody>\n",
       "    <tr>\n",
       "      <th>count</th>\n",
       "      <td>253.000000</td>\n",
       "      <td>253.000000</td>\n",
       "    </tr>\n",
       "    <tr>\n",
       "      <th>mean</th>\n",
       "      <td>209.535652</td>\n",
       "      <td>208.641560</td>\n",
       "    </tr>\n",
       "    <tr>\n",
       "      <th>std</th>\n",
       "      <td>20.097125</td>\n",
       "      <td>20.539845</td>\n",
       "    </tr>\n",
       "    <tr>\n",
       "      <th>min</th>\n",
       "      <td>151.860001</td>\n",
       "      <td>150.579803</td>\n",
       "    </tr>\n",
       "    <tr>\n",
       "      <th>25%</th>\n",
       "      <td>200.050003</td>\n",
       "      <td>199.829971</td>\n",
       "    </tr>\n",
       "    <tr>\n",
       "      <th>50%</th>\n",
       "      <td>212.339996</td>\n",
       "      <td>211.384949</td>\n",
       "    </tr>\n",
       "    <tr>\n",
       "      <th>75%</th>\n",
       "      <td>222.690002</td>\n",
       "      <td>221.908905</td>\n",
       "    </tr>\n",
       "    <tr>\n",
       "      <th>max</th>\n",
       "      <td>245.029999</td>\n",
       "      <td>244.427048</td>\n",
       "    </tr>\n",
       "  </tbody>\n",
       "</table>\n",
       "</div>"
      ],
      "text/plain": [
       "             Open   Adj Close\n",
       "count  253.000000  253.000000\n",
       "mean   209.535652  208.641560\n",
       "std     20.097125   20.539845\n",
       "min    151.860001  150.579803\n",
       "25%    200.050003  199.829971\n",
       "50%    212.339996  211.384949\n",
       "75%    222.690002  221.908905\n",
       "max    245.029999  244.427048"
      ]
     },
     "execution_count": 31,
     "metadata": {},
     "output_type": "execute_result"
    }
   ],
   "source": [
    "df1.describe()"
   ]
  },
  {
   "cell_type": "markdown",
   "metadata": {},
   "source": [
    "## DATA VISUALIZATION"
   ]
  },
  {
   "cell_type": "markdown",
   "metadata": {},
   "source": [
    "### Grafico de lineas"
   ]
  },
  {
   "cell_type": "code",
   "execution_count": 32,
   "metadata": {},
   "outputs": [
    {
     "data": {
      "text/plain": [
       "<AxesSubplot:>"
      ]
     },
     "execution_count": 32,
     "metadata": {},
     "output_type": "execute_result"
    },
    {
     "data": {
      "image/png": "[encoded data removed]",
      "text/plain": [
       "<Figure size 432x288 with 1 Axes>"
      ]
     },
     "metadata": {
      "needs_background": "light"
     },
     "output_type": "display_data"
    }
   ],
   "source": [
    "sns.lineplot(data=df1)"
   ]
  },
  {
   "cell_type": "markdown",
   "metadata": {},
   "source": [
    "### Garfico de dispersión"
   ]
  },
  {
   "cell_type": "code",
   "execution_count": 33,
   "metadata": {},
   "outputs": [
    {
     "data": {
      "text/plain": [
       "<AxesSubplot:xlabel='Open', ylabel='Adj Close'>"
      ]
     },
     "execution_count": 33,
     "metadata": {},
     "output_type": "execute_result"
    },
    {
     "data": {
      "image/png": "[encoded data removed]",
      "text/plain": [
       "<Figure size 432x288 with 1 Axes>"
      ]
     },
     "metadata": {
      "needs_background": "light"
     },
     "output_type": "display_data"
    }
   ],
   "source": [
    "sns.regplot(x=df1['Open'],y=df1['Adj Close'])"
   ]
  },
  {
   "cell_type": "markdown",
   "metadata": {},
   "source": [
    "## STATISTIC TEST"
   ]
  },
  {
   "cell_type": "markdown",
   "metadata": {},
   "source": [
    "### ANOVA TEST"
   ]
  },
  {
   "cell_type": "code",
   "execution_count": 34,
   "metadata": {},
   "outputs": [],
   "source": [
    "import scipy.stats as stats"
   ]
  },
  {
   "cell_type": "code",
   "execution_count": 35,
   "metadata": {},
   "outputs": [
    {
     "name": "stdout",
     "output_type": "stream",
     "text": [
      "0.24491811274365768 0.6208920104533517\n"
     ]
    }
   ],
   "source": [
    "# stats f_oneway functions takes the groups as input and returns ANOVA F and p value\n",
    "fvalue, pvalue = stats.f_oneway(df1['Open'], df1['Adj Close'])\n",
    "print(fvalue, pvalue)"
   ]
  },
  {
   "cell_type": "code",
   "execution_count": 36,
   "metadata": {},
   "outputs": [],
   "source": [
    "#como el p valor es mayor que 0..05 no se rechaza"
   ]
  },
  {
   "cell_type": "markdown",
   "metadata": {},
   "source": [
    "### SHAPIRO WILK TEST"
   ]
  },
  {
   "cell_type": "code",
   "execution_count": 37,
   "metadata": {},
   "outputs": [
    {
     "data": {
      "text/html": [
       "<div>\n",
       "<style scoped>\n",
       "    .dataframe tbody tr th:only-of-type {\n",
       "        vertical-align: middle;\n",
       "    }\n",
       "\n",
       "    .dataframe tbody tr th {\n",
       "        vertical-align: top;\n",
       "    }\n",
       "\n",
       "    .dataframe thead th {\n",
       "        text-align: right;\n",
       "    }\n",
       "</style>\n",
       "<table border=\"1\" class=\"dataframe\">\n",
       "  <thead>\n",
       "    <tr style=\"text-align: right;\">\n",
       "      <th></th>\n",
       "      <th>Adj Close</th>\n",
       "    </tr>\n",
       "  </thead>\n",
       "  <tbody>\n",
       "    <tr>\n",
       "      <th>0</th>\n",
       "      <td>150.579803</td>\n",
       "    </tr>\n",
       "    <tr>\n",
       "      <th>1</th>\n",
       "      <td>153.698120</td>\n",
       "    </tr>\n",
       "    <tr>\n",
       "      <th>2</th>\n",
       "      <td>152.282501</td>\n",
       "    </tr>\n",
       "    <tr>\n",
       "      <th>3</th>\n",
       "      <td>163.607422</td>\n",
       "    </tr>\n",
       "    <tr>\n",
       "      <th>4</th>\n",
       "      <td>161.845322</td>\n",
       "    </tr>\n",
       "    <tr>\n",
       "      <th>...</th>\n",
       "      <td>...</td>\n",
       "    </tr>\n",
       "    <tr>\n",
       "      <th>248</th>\n",
       "      <td>236.479996</td>\n",
       "    </tr>\n",
       "    <tr>\n",
       "      <th>249</th>\n",
       "      <td>235.240005</td>\n",
       "    </tr>\n",
       "    <tr>\n",
       "      <th>250</th>\n",
       "      <td>231.850006</td>\n",
       "    </tr>\n",
       "    <tr>\n",
       "      <th>251</th>\n",
       "      <td>235.770004</td>\n",
       "    </tr>\n",
       "    <tr>\n",
       "      <th>252</th>\n",
       "      <td>242.350006</td>\n",
       "    </tr>\n",
       "  </tbody>\n",
       "</table>\n",
       "<p>253 rows × 1 columns</p>\n",
       "</div>"
      ],
      "text/plain": [
       "      Adj Close\n",
       "0    150.579803\n",
       "1    153.698120\n",
       "2    152.282501\n",
       "3    163.607422\n",
       "4    161.845322\n",
       "..          ...\n",
       "248  236.479996\n",
       "249  235.240005\n",
       "250  231.850006\n",
       "251  235.770004\n",
       "252  242.350006\n",
       "\n",
       "[253 rows x 1 columns]"
      ]
     },
     "execution_count": 37,
     "metadata": {},
     "output_type": "execute_result"
    }
   ],
   "source": [
    "df2=df.drop(columns=['Date','Open','High','Low','Close','Volume'])\n",
    "df2"
   ]
  },
  {
   "cell_type": "code",
   "execution_count": 38,
   "metadata": {},
   "outputs": [
    {
     "data": {
      "text/plain": [
       "ShapiroResult(statistic=0.9652826189994812, pvalue=8.24137623567367e-06)"
      ]
     },
     "execution_count": 38,
     "metadata": {},
     "output_type": "execute_result"
    }
   ],
   "source": [
    "stats.shapiro(df2)"
   ]
  },
  {
   "cell_type": "code",
   "execution_count": 39,
   "metadata": {},
   "outputs": [],
   "source": [
    "#Adj Close price is Normal"
   ]
  },
  {
   "cell_type": "markdown",
   "metadata": {},
   "source": [
    "## LINEAR REGRESSION\n"
   ]
  },
  {
   "cell_type": "code",
   "execution_count": 40,
   "metadata": {},
   "outputs": [
    {
     "data": {
      "text/html": [
       "<div>\n",
       "<style scoped>\n",
       "    .dataframe tbody tr th:only-of-type {\n",
       "        vertical-align: middle;\n",
       "    }\n",
       "\n",
       "    .dataframe tbody tr th {\n",
       "        vertical-align: top;\n",
       "    }\n",
       "\n",
       "    .dataframe thead th {\n",
       "        text-align: right;\n",
       "    }\n",
       "</style>\n",
       "<table border=\"1\" class=\"dataframe\">\n",
       "  <thead>\n",
       "    <tr style=\"text-align: right;\">\n",
       "      <th></th>\n",
       "      <th>Open</th>\n",
       "      <th>Adj Close</th>\n",
       "    </tr>\n",
       "  </thead>\n",
       "  <tbody>\n",
       "    <tr>\n",
       "      <th>0</th>\n",
       "      <td>153.000000</td>\n",
       "      <td>150.579803</td>\n",
       "    </tr>\n",
       "    <tr>\n",
       "      <th>1</th>\n",
       "      <td>151.860001</td>\n",
       "      <td>153.698120</td>\n",
       "    </tr>\n",
       "    <tr>\n",
       "      <th>2</th>\n",
       "      <td>155.100006</td>\n",
       "      <td>152.282501</td>\n",
       "    </tr>\n",
       "    <tr>\n",
       "      <th>3</th>\n",
       "      <td>160.320007</td>\n",
       "      <td>163.607422</td>\n",
       "    </tr>\n",
       "    <tr>\n",
       "      <th>4</th>\n",
       "      <td>169.589996</td>\n",
       "      <td>161.845322</td>\n",
       "    </tr>\n",
       "    <tr>\n",
       "      <th>...</th>\n",
       "      <td>...</td>\n",
       "      <td>...</td>\n",
       "    </tr>\n",
       "    <tr>\n",
       "      <th>248</th>\n",
       "      <td>231.550003</td>\n",
       "      <td>236.479996</td>\n",
       "    </tr>\n",
       "    <tr>\n",
       "      <th>249</th>\n",
       "      <td>236.589996</td>\n",
       "      <td>235.240005</td>\n",
       "    </tr>\n",
       "    <tr>\n",
       "      <th>250</th>\n",
       "      <td>233.529999</td>\n",
       "      <td>231.850006</td>\n",
       "    </tr>\n",
       "    <tr>\n",
       "      <th>251</th>\n",
       "      <td>232.910004</td>\n",
       "      <td>235.770004</td>\n",
       "    </tr>\n",
       "    <tr>\n",
       "      <th>252</th>\n",
       "      <td>238.470001</td>\n",
       "      <td>242.350006</td>\n",
       "    </tr>\n",
       "  </tbody>\n",
       "</table>\n",
       "<p>253 rows × 2 columns</p>\n",
       "</div>"
      ],
      "text/plain": [
       "           Open   Adj Close\n",
       "0    153.000000  150.579803\n",
       "1    151.860001  153.698120\n",
       "2    155.100006  152.282501\n",
       "3    160.320007  163.607422\n",
       "4    169.589996  161.845322\n",
       "..          ...         ...\n",
       "248  231.550003  236.479996\n",
       "249  236.589996  235.240005\n",
       "250  233.529999  231.850006\n",
       "251  232.910004  235.770004\n",
       "252  238.470001  242.350006\n",
       "\n",
       "[253 rows x 2 columns]"
      ]
     },
     "execution_count": 40,
     "metadata": {},
     "output_type": "execute_result"
    }
   ],
   "source": [
    "df2=df.drop(columns=['Date','High','Low','Close','Volume'])\n",
    "df2"
   ]
  },
  {
   "cell_type": "code",
   "execution_count": 41,
   "metadata": {},
   "outputs": [],
   "source": [
    "#Solo queremos 10 datos para hacer nuestra regresion lineal así que eliminaremos 242 hileras "
   ]
  },
  {
   "cell_type": "code",
   "execution_count": 42,
   "metadata": {},
   "outputs": [
    {
     "data": {
      "text/plain": [
       "253"
      ]
     },
     "execution_count": 42,
     "metadata": {},
     "output_type": "execute_result"
    }
   ],
   "source": [
    "filas=len(df2.index) #variable para contar las filas\n",
    "filas"
   ]
  },
  {
   "cell_type": "code",
   "execution_count": 43,
   "metadata": {},
   "outputs": [],
   "source": [
    "a = {'x':df2[\"Open\"],'y':df2[\"Adj Close\"]}\n",
    "b = pd.DataFrame(a)"
   ]
  },
  {
   "cell_type": "code",
   "execution_count": 45,
   "metadata": {},
   "outputs": [],
   "source": [
    "from sklearn.linear_model import LinearRegression"
   ]
  },
  {
   "cell_type": "code",
   "execution_count": 46,
   "metadata": {},
   "outputs": [],
   "source": [
    "Linea_Regresion = LinearRegression()"
   ]
  },
  {
   "cell_type": "code",
   "execution_count": 47,
   "metadata": {},
   "outputs": [],
   "source": [
    "Eje_X = b[['x']] #ESTA ES LA NOTACION PARA LAS COLUMNAS\n",
    "Eje_Y = b[['y']]"
   ]
  },
  {
   "cell_type": "code",
   "execution_count": 48,
   "metadata": {},
   "outputs": [
    {
     "data": {
      "text/plain": [
       "LinearRegression()"
      ]
     },
     "execution_count": 48,
     "metadata": {},
     "output_type": "execute_result"
    }
   ],
   "source": [
    "Linea_Regresion.fit(Eje_X,Eje_Y)"
   ]
  },
  {
   "cell_type": "markdown",
   "metadata": {},
   "source": [
    "#### El valor de la variable beta 1"
   ]
  },
  {
   "cell_type": "code",
   "execution_count": 49,
   "metadata": {},
   "outputs": [
    {
     "data": {
      "text/plain": [
       "array([[1.01078752]])"
      ]
     },
     "execution_count": 49,
     "metadata": {},
     "output_type": "execute_result"
    }
   ],
   "source": [
    "#El valor de la pendiente (β1) es; \n",
    "Linea_Regresion.coef_"
   ]
  },
  {
   "cell_type": "markdown",
   "metadata": {},
   "source": [
    "El valor de la variable beta 0"
   ]
  },
  {
   "cell_type": "code",
   "execution_count": 50,
   "metadata": {},
   "outputs": [
    {
     "data": {
      "text/plain": [
       "array([-3.15446137])"
      ]
     },
     "execution_count": 50,
     "metadata": {},
     "output_type": "execute_result"
    }
   ],
   "source": [
    "#El valor de la interseccion (β0) es; \n",
    "Linea_Regresion.intercept_"
   ]
  },
  {
   "cell_type": "markdown",
   "metadata": {},
   "source": [
    "Podemos concluir que la línea de regresión ajustada a los datos es\n",
    "\n",
    "y= -3.15446137+1.01078752xi"
   ]
  },
  {
   "cell_type": "code",
   "execution_count": 59,
   "metadata": {},
   "outputs": [],
   "source": [
    "import matplotlib.pyplot as plt"
   ]
  },
  {
   "cell_type": "code",
   "execution_count": 63,
   "metadata": {},
   "outputs": [
    {
     "data": {
      "text/plain": [
       "[<matplotlib.lines.Line2D at 0x208fdb4e730>]"
      ]
     },
     "execution_count": 63,
     "metadata": {},
     "output_type": "execute_result"
    },
    {
     "data": {
      "image/png": "[encoded data removed]",
      "text/plain": [
       "<Figure size 432x288 with 1 Axes>"
      ]
     },
     "metadata": {
      "needs_background": "light"
     },
     "output_type": "display_data"
    }
   ],
   "source": [
    "plt.plot(df2[\"Open\"],df2[\"Adj Close\"],'o')\n",
    "plt.plot([min(df2[\"Open\"]),max(df2[\"Open\"])],[-3.15446137+1.01078752 *min(df2[\"Open\"]),-3.15446137+1.01078752*max(df2[\"Open\"])])"
   ]
  },
  {
   "cell_type": "markdown",
   "metadata": {},
   "source": [
    "## FORECASTING"
   ]
  },
  {
   "cell_type": "code",
   "execution_count": 64,
   "metadata": {},
   "outputs": [],
   "source": [
    "### relacion hgu=a hgud=b open adj close"
   ]
  },
  {
   "cell_type": "code",
   "execution_count": 69,
   "metadata": {},
   "outputs": [],
   "source": [
    "## Existen diversas maneras para medir hasta que punto las diferentes variables son interdependientes. Sí una variable esta relacionada con otra, es decir, por ejemplo,x esta relacionada con y, entonces podemos analizar que tanto están relacionadas.\n",
    "\n",
    "## En particular, existen tres maneras de analizar la relación entre variables.\n",
    "\n",
    "## Visual Coeficiente de Pearson p-valor Analizar la relación entre variables de manera visual nos da una PISTA de la relación entre ellas, sin embargo, no es prueba contundente de esta.\n",
    "\n",
    "## El coeficiente de Pearson es un valor estadístico que nos indica que de que forma están relacionadas las variables. El coeficiente de Pearson tiene el siguiente criterio.\n",
    "\n",
    "## Valor del Coeficiente de Pearson Significado Cercano a 1 Tenemos una relación lineal positiva Cercano a 0 No existe una relación lineal entre las variables Cercano a -1 Tenemos una relación lineal negativa Por su lado, el p-valor nos dice lo seguros que estamos de la relación calculada.\n",
    "\n",
    "## Valor del p-valor Significado 0.01<p<0.05 Fuerte certeza de relación lineal 0.05<p<0.1 Moderada certeza de relación lineal p<0.1 Débil certeza de relación lineal p>0.1 No existe relación lineal"
   ]
  },
  {
   "cell_type": "code",
   "execution_count": 70,
   "metadata": {},
   "outputs": [
    {
     "data": {
      "text/html": [
       "<div>\n",
       "<style scoped>\n",
       "    .dataframe tbody tr th:only-of-type {\n",
       "        vertical-align: middle;\n",
       "    }\n",
       "\n",
       "    .dataframe tbody tr th {\n",
       "        vertical-align: top;\n",
       "    }\n",
       "\n",
       "    .dataframe thead th {\n",
       "        text-align: right;\n",
       "    }\n",
       "</style>\n",
       "<table border=\"1\" class=\"dataframe\">\n",
       "  <thead>\n",
       "    <tr style=\"text-align: right;\">\n",
       "      <th></th>\n",
       "      <th>Open(x)</th>\n",
       "      <th>Adj Close(y)</th>\n",
       "    </tr>\n",
       "  </thead>\n",
       "  <tbody>\n",
       "    <tr>\n",
       "      <th>0</th>\n",
       "      <td>153.000000</td>\n",
       "      <td>150.579803</td>\n",
       "    </tr>\n",
       "    <tr>\n",
       "      <th>1</th>\n",
       "      <td>151.860001</td>\n",
       "      <td>153.698120</td>\n",
       "    </tr>\n",
       "    <tr>\n",
       "      <th>2</th>\n",
       "      <td>155.100006</td>\n",
       "      <td>152.282501</td>\n",
       "    </tr>\n",
       "    <tr>\n",
       "      <th>3</th>\n",
       "      <td>160.320007</td>\n",
       "      <td>163.607422</td>\n",
       "    </tr>\n",
       "    <tr>\n",
       "      <th>4</th>\n",
       "      <td>169.589996</td>\n",
       "      <td>161.845322</td>\n",
       "    </tr>\n",
       "    <tr>\n",
       "      <th>...</th>\n",
       "      <td>...</td>\n",
       "      <td>...</td>\n",
       "    </tr>\n",
       "    <tr>\n",
       "      <th>248</th>\n",
       "      <td>231.550003</td>\n",
       "      <td>236.479996</td>\n",
       "    </tr>\n",
       "    <tr>\n",
       "      <th>249</th>\n",
       "      <td>236.589996</td>\n",
       "      <td>235.240005</td>\n",
       "    </tr>\n",
       "    <tr>\n",
       "      <th>250</th>\n",
       "      <td>233.529999</td>\n",
       "      <td>231.850006</td>\n",
       "    </tr>\n",
       "    <tr>\n",
       "      <th>251</th>\n",
       "      <td>232.910004</td>\n",
       "      <td>235.770004</td>\n",
       "    </tr>\n",
       "    <tr>\n",
       "      <th>252</th>\n",
       "      <td>238.470001</td>\n",
       "      <td>242.350006</td>\n",
       "    </tr>\n",
       "  </tbody>\n",
       "</table>\n",
       "<p>253 rows × 2 columns</p>\n",
       "</div>"
      ],
      "text/plain": [
       "        Open(x)  Adj Close(y)\n",
       "0    153.000000    150.579803\n",
       "1    151.860001    153.698120\n",
       "2    155.100006    152.282501\n",
       "3    160.320007    163.607422\n",
       "4    169.589996    161.845322\n",
       "..          ...           ...\n",
       "248  231.550003    236.479996\n",
       "249  236.589996    235.240005\n",
       "250  233.529999    231.850006\n",
       "251  232.910004    235.770004\n",
       "252  238.470001    242.350006\n",
       "\n",
       "[253 rows x 2 columns]"
      ]
     },
     "execution_count": 70,
     "metadata": {},
     "output_type": "execute_result"
    }
   ],
   "source": [
    "a = {'Open(x)':df2[\"Open\"],'Adj Close(y)':df2[\"Adj Close\"]}\n",
    "b = pd.DataFrame(a)\n",
    "b"
   ]
  },
  {
   "cell_type": "code",
   "execution_count": 71,
   "metadata": {},
   "outputs": [
    {
     "name": "stdout",
     "output_type": "stream",
     "text": [
      "La pendiente es :  [[1.01078752]] \n",
      "La interseccion es :  [-3.15446137]\n"
     ]
    }
   ],
   "source": [
    "from sklearn.linear_model import LinearRegression\n",
    "\n",
    "Linea_Regresion = LinearRegression()\n",
    "\n",
    "Linea_Regresion.fit(b[['Open(x)']],b[['Adj Close(y)']])\n",
    "\n",
    "print('La pendiente es : ',Linea_Regresion.coef_,'\\nLa interseccion es : ',Linea_Regresion.intercept_)"
   ]
  },
  {
   "cell_type": "markdown",
   "metadata": {},
   "source": [
    "y= -3.15446137+1.01078752"
   ]
  },
  {
   "cell_type": "code",
   "execution_count": 73,
   "metadata": {},
   "outputs": [
    {
     "data": {
      "text/plain": [
       "(0.0, 249.2885529091494)"
      ]
     },
     "execution_count": 73,
     "metadata": {},
     "output_type": "execute_result"
    },
    {
     "data": {
      "image/png": "[encoded data removed]",
      "text/plain": [
       "<Figure size 432x288 with 1 Axes>"
      ]
     },
     "metadata": {
      "needs_background": "light"
     },
     "output_type": "display_data"
    }
   ],
   "source": [
    "#ANALIZAMOS DE MANERA VISUAL\n",
    "\n",
    "import seaborn as sns\n",
    "\n",
    "sns.regplot( x = 'Open(x)', y = 'Adj Close(y)', data = b,ci = 95)\n",
    "plt.ylim(0,)"
   ]
  },
  {
   "cell_type": "markdown",
   "metadata": {},
   "source": [
    "## TIME SERIES ANALYSIS"
   ]
  },
  {
   "cell_type": "code",
   "execution_count": 89,
   "metadata": {},
   "outputs": [],
   "source": [
    "import matplotlib.pyplot as plt\n",
    "%matplotlib inline"
   ]
  },
  {
   "cell_type": "code",
   "execution_count": 90,
   "metadata": {},
   "outputs": [
    {
     "data": {
      "text/html": [
       "<div>\n",
       "<style scoped>\n",
       "    .dataframe tbody tr th:only-of-type {\n",
       "        vertical-align: middle;\n",
       "    }\n",
       "\n",
       "    .dataframe tbody tr th {\n",
       "        vertical-align: top;\n",
       "    }\n",
       "\n",
       "    .dataframe thead th {\n",
       "        text-align: right;\n",
       "    }\n",
       "</style>\n",
       "<table border=\"1\" class=\"dataframe\">\n",
       "  <thead>\n",
       "    <tr style=\"text-align: right;\">\n",
       "      <th></th>\n",
       "      <th>Date</th>\n",
       "      <th>Adj Close</th>\n",
       "    </tr>\n",
       "  </thead>\n",
       "  <tbody>\n",
       "    <tr>\n",
       "      <th>0</th>\n",
       "      <td>2020-04-01</td>\n",
       "      <td>150.579803</td>\n",
       "    </tr>\n",
       "    <tr>\n",
       "      <th>1</th>\n",
       "      <td>2020-04-02</td>\n",
       "      <td>153.698120</td>\n",
       "    </tr>\n",
       "    <tr>\n",
       "      <th>2</th>\n",
       "      <td>2020-04-03</td>\n",
       "      <td>152.282501</td>\n",
       "    </tr>\n",
       "    <tr>\n",
       "      <th>3</th>\n",
       "      <td>2020-04-06</td>\n",
       "      <td>163.607422</td>\n",
       "    </tr>\n",
       "    <tr>\n",
       "      <th>4</th>\n",
       "      <td>2020-04-07</td>\n",
       "      <td>161.845322</td>\n",
       "    </tr>\n",
       "    <tr>\n",
       "      <th>...</th>\n",
       "      <td>...</td>\n",
       "      <td>...</td>\n",
       "    </tr>\n",
       "    <tr>\n",
       "      <th>248</th>\n",
       "      <td>2021-03-26</td>\n",
       "      <td>236.479996</td>\n",
       "    </tr>\n",
       "    <tr>\n",
       "      <th>249</th>\n",
       "      <td>2021-03-29</td>\n",
       "      <td>235.240005</td>\n",
       "    </tr>\n",
       "    <tr>\n",
       "      <th>250</th>\n",
       "      <td>2021-03-30</td>\n",
       "      <td>231.850006</td>\n",
       "    </tr>\n",
       "    <tr>\n",
       "      <th>251</th>\n",
       "      <td>2021-03-31</td>\n",
       "      <td>235.770004</td>\n",
       "    </tr>\n",
       "    <tr>\n",
       "      <th>252</th>\n",
       "      <td>2021-04-01</td>\n",
       "      <td>242.350006</td>\n",
       "    </tr>\n",
       "  </tbody>\n",
       "</table>\n",
       "<p>253 rows × 2 columns</p>\n",
       "</div>"
      ],
      "text/plain": [
       "           Date   Adj Close\n",
       "0    2020-04-01  150.579803\n",
       "1    2020-04-02  153.698120\n",
       "2    2020-04-03  152.282501\n",
       "3    2020-04-06  163.607422\n",
       "4    2020-04-07  161.845322\n",
       "..          ...         ...\n",
       "248  2021-03-26  236.479996\n",
       "249  2021-03-29  235.240005\n",
       "250  2021-03-30  231.850006\n",
       "251  2021-03-31  235.770004\n",
       "252  2021-04-01  242.350006\n",
       "\n",
       "[253 rows x 2 columns]"
      ]
     },
     "execution_count": 90,
     "metadata": {},
     "output_type": "execute_result"
    }
   ],
   "source": [
    "df3=df.drop(columns=['High','Low','Close','Volume','Open'])\n",
    "df3"
   ]
  },
  {
   "cell_type": "code",
   "execution_count": 91,
   "metadata": {},
   "outputs": [
    {
     "data": {
      "text/plain": [
       "<AxesSubplot:>"
      ]
     },
     "execution_count": 91,
     "metadata": {},
     "output_type": "execute_result"
    },
    {
     "data": {
      "image/png": "[encoded data removed]",
      "text/plain": [
       "<Figure size 432x288 with 1 Axes>"
      ]
     },
     "metadata": {
      "needs_background": "light"
     },
     "output_type": "display_data"
    }
   ],
   "source": [
    "df3.plot()"
   ]
  },
  {
   "cell_type": "markdown",
   "metadata": {},
   "source": [
    "Como vemos la grafica de los precios tiene un comportamiento ascendente por lo que esperamos un proyección que nos muestre precios crecientes"
   ]
  },
  {
   "cell_type": "markdown",
   "metadata": {},
   "source": [
    "#### Coeficiente de Pearson y p-valor\n",
    "\n",
    "Para observar el coeficiente de Pearson y el $p$-valor utilizamos la función stats de la librería scipy y dentro de ella pearsonr."
   ]
  },
  {
   "cell_type": "code",
   "execution_count": 74,
   "metadata": {},
   "outputs": [],
   "source": [
    "#1.Importamos la funcion \n",
    "from scipy import stats\n",
    "\n",
    "#2.Mandamos a llamar la funcion pearsonr\n",
    "Pearson = stats.pearsonr(b.loc[:,'Open(x)'], b.loc[:,'Adj Close(y)'])"
   ]
  },
  {
   "cell_type": "code",
   "execution_count": 75,
   "metadata": {},
   "outputs": [
    {
     "name": "stdout",
     "output_type": "stream",
     "text": [
      "El coeficiente de Pearson es  0.9890007931075019 \n",
      "El P-Valor es  2.376701829375412e-210\n"
     ]
    }
   ],
   "source": [
    "#3.IMPRIMIMOS EL COEFICIENTE DE PEARSON Y EL P-VALOR\n",
    "print('El coeficiente de Pearson es ',Pearson[0],'\\nEl P-Valor es ',Pearson[1])"
   ]
  },
  {
   "cell_type": "code",
   "execution_count": 76,
   "metadata": {},
   "outputs": [
    {
     "name": "stdout",
     "output_type": "stream",
     "text": [
      "Debil certeza de relacion lineal\n"
     ]
    }
   ],
   "source": [
    "#VERIFICAMOS lo QUE NOS DICE EL P-VALOR\n",
    "if 0.01 < Pearson[1] and Pearson[1] < 0.05 :\n",
    "  print('Fuerte certeza de relacion lineal')\n",
    "elif 0.05 < Pearson[1] and Pearson[1] < 0.1 :\n",
    "  print('Moderada certeza de relacion lineal')\n",
    "elif Pearson[1] < 0.1:\n",
    "  print('Debil certeza de relacion lineal')\n",
    "elif Pearson[1] > 0.1:\n",
    "  print('No existe certeza de relacion lineal')"
   ]
  },
  {
   "cell_type": "markdown",
   "metadata": {},
   "source": [
    "#### R^2 Coeficiente de determinación\n",
    "\n",
    "El coeficiente de determinación nos dice lo cerca que están los datos de la línea de regresión ajustada.\n",
    "\n",
    "|R^2|Significado|\n",
    "\n",
    "|Valor cercano a 1|La línea de regresión es un buen ajuste a los datos|\n",
    "|Valor cercano a 0|La línea de regresión no es un buen ajuste a los datos|\n",
    "\n",
    "Sí el valor de $R^2$ es negativo puede deberse a un sobre ajuste de los datos.\n",
    "\n",
    "Este coeficiente es aplicable a una regresión lineal, múltiple y polinómica, entre otras."
   ]
  },
  {
   "cell_type": "code",
   "execution_count": 77,
   "metadata": {},
   "outputs": [
    {
     "name": "stdout",
     "output_type": "stream",
     "text": [
      "El coeficiente de determinacion es  0.9781225687672668\n"
     ]
    }
   ],
   "source": [
    "b\n",
    "#1: IMPORTAMOS\n",
    "\n",
    "from sklearn.linear_model import LinearRegression\n",
    "\n",
    "LM = LinearRegression()\n",
    "\n",
    "#2: AJUSTAMOS\n",
    "\n",
    "LM.fit(b[['Open(x)']], b[['Adj Close(y)']])\n",
    "\n",
    "#3: CALCULAMOS EL COEFICIENTE DE DETERMINACION\n",
    "\n",
    "print('El coeficiente de determinacion es ',LM.score(b[['Open(x)']], b[['Adj Close(y)']]))"
   ]
  },
  {
   "cell_type": "markdown",
   "metadata": {},
   "source": [
    "El coeficiente de determinación es la proporción de la varianza total de la variable explicada por la regresión. \n",
    "Es también denominado R cuadrado y sirve para reflejar la bondad del ajuste de un modelo a la variable \n",
    "que se pretende explicar.\n",
    "\n",
    "El coeficiente de determinación puede adquirir resultados que oscilan entre 0 y 1. \n",
    "Así, cuando adquiere resultados más cercanos a 1, mayor resultará el ajuste del modelo a la variable que se pretende aplicar para el caso en concreto. Por el contrario, cuando adquiere resultados que se acercan al valor 0, menor será el ajuste del modelo a la variable que se pretende aplicar y, justo por eso, resultará dicho modelo menos fiable."
   ]
  },
  {
   "cell_type": "markdown",
   "metadata": {},
   "source": [
    "# Data classification"
   ]
  },
  {
   "cell_type": "code",
   "execution_count": 79,
   "metadata": {},
   "outputs": [
    {
     "name": "stdout",
     "output_type": "stream",
     "text": [
      "              x           y\n",
      "0    153.000000  150.579803\n",
      "1    151.860001  153.698120\n",
      "2    155.100006  152.282501\n",
      "3    160.320007  163.607422\n",
      "4    169.589996  161.845322\n",
      "..          ...         ...\n",
      "248  231.550003  236.479996\n",
      "249  236.589996  235.240005\n",
      "250  233.529999  231.850006\n",
      "251  232.910004  235.770004\n",
      "252  238.470001  242.350006\n",
      "\n",
      "[253 rows x 2 columns]\n"
     ]
    }
   ],
   "source": [
    "from pandas import DataFrame\n",
    "a = {'x':df2[\"Open\"],'y':df2[\"Adj Close\"]}\n",
    "a_df= DataFrame(a,columns=['x','y'])\n",
    "print(a_df)"
   ]
  },
  {
   "cell_type": "code",
   "execution_count": 80,
   "metadata": {},
   "outputs": [
    {
     "data": {
      "text/plain": [
       "<function matplotlib.pyplot.show(close=None, block=None)>"
      ]
     },
     "execution_count": 80,
     "metadata": {},
     "output_type": "execute_result"
    },
    {
     "data": {
      "image/png": "[encoded data removed]",
      "text/plain": [
       "<Figure size 432x288 with 1 Axes>"
      ]
     },
     "metadata": {
      "needs_background": "light"
     },
     "output_type": "display_data"
    }
   ],
   "source": [
    "import matplotlib.pyplot as plt\n",
    "plt.scatter(a_df['x'],a_df['y'])\n",
    "plt.show"
   ]
  },
  {
   "cell_type": "markdown",
   "metadata": {},
   "source": [
    "Gráfico de dispersion, observamos que los datos no estan tan dispersos, es decir que mantienen una correlacion todos centrados mas en un centro"
   ]
  },
  {
   "cell_type": "code",
   "execution_count": 81,
   "metadata": {},
   "outputs": [],
   "source": [
    "import sklearn"
   ]
  },
  {
   "cell_type": "code",
   "execution_count": 82,
   "metadata": {},
   "outputs": [
    {
     "name": "stdout",
     "output_type": "stream",
     "text": [
      "[[210.23759389 209.33152323]\n",
      " [232.94641779 232.52439372]\n",
      " [178.17943381 176.71863572]]\n"
     ]
    }
   ],
   "source": [
    "#1-Unicaremos los centroides, dependiendo los centroides que le indiquemos\n",
    "from sklearn.cluster import KMeans\n",
    "KMeans = KMeans(n_clusters=3).fit(a_df)\n",
    "centroids = KMeans.cluster_centers_\n",
    "print(centroids)"
   ]
  },
  {
   "cell_type": "code",
   "execution_count": 83,
   "metadata": {},
   "outputs": [
    {
     "data": {
      "image/png": "[encoded data removed]",
      "text/plain": [
       "<Figure size 432x288 with 1 Axes>"
      ]
     },
     "metadata": {
      "needs_background": "light"
     },
     "output_type": "display_data"
    }
   ],
   "source": [
    "plt.scatter(a_df['x'],a_df['y'],c=KMeans.labels_.astype(float),s=50,alpha=0.5)\n",
    "plt.scatter(centroids[:,0],centroids[:,1],c=\"red\",s=50)\n",
    "plt.show()"
   ]
  },
  {
   "cell_type": "markdown",
   "metadata": {},
   "source": [
    "Los datos de casos confirmados recuperados y de fallecidos, que serian el total de casos, se centra mas entre los cienmiles de casos por dia."
   ]
  },
  {
   "cell_type": "markdown",
   "metadata": {},
   "source": [
    "# Data clustering"
   ]
  },
  {
   "cell_type": "markdown",
   "metadata": {},
   "source": [
    "Es util por que se tienen menos de 10000 individuos*"
   ]
  },
  {
   "cell_type": "code",
   "execution_count": 84,
   "metadata": {},
   "outputs": [],
   "source": [
    "from sklearn.cluster import KMeans\n",
    "from sklearn.datasets import make_blobs\n",
    "import numpy as np\n",
    "import matplotlib.pyplot as plt"
   ]
  },
  {
   "cell_type": "markdown",
   "metadata": {},
   "source": [
    "NORMALIZAMOS los datos:para que el agrupamiento no se valla parcializado a una sola variable."
   ]
  },
  {
   "cell_type": "code",
   "execution_count": 85,
   "metadata": {},
   "outputs": [],
   "source": [
    "from sklearn.preprocessing import normalize\n",
    "data_a=normalize(a_df)"
   ]
  },
  {
   "cell_type": "markdown",
   "metadata": {},
   "source": [
    "Aqui normalizamos los datos"
   ]
  },
  {
   "cell_type": "code",
   "execution_count": 86,
   "metadata": {},
   "outputs": [
    {
     "name": "stdout",
     "output_type": "stream",
     "text": [
      "              x           y\n",
      "0    153.000000  150.579803\n",
      "1    151.860001  153.698120\n",
      "2    155.100006  152.282501\n",
      "3    160.320007  163.607422\n",
      "4    169.589996  161.845322\n",
      "..          ...         ...\n",
      "248  231.550003  236.479996\n",
      "249  236.589996  235.240005\n",
      "250  233.529999  231.850006\n",
      "251  232.910004  235.770004\n",
      "252  238.470001  242.350006\n",
      "\n",
      "[253 rows x 2 columns]\n"
     ]
    }
   ],
   "source": [
    "data_a= DataFrame(data_a,columns=['x','y'])\n",
    "print(a_df)"
   ]
  },
  {
   "cell_type": "code",
   "execution_count": 87,
   "metadata": {},
   "outputs": [
    {
     "data": {
      "text/html": [
       "<div>\n",
       "<style scoped>\n",
       "    .dataframe tbody tr th:only-of-type {\n",
       "        vertical-align: middle;\n",
       "    }\n",
       "\n",
       "    .dataframe tbody tr th {\n",
       "        vertical-align: top;\n",
       "    }\n",
       "\n",
       "    .dataframe thead th {\n",
       "        text-align: right;\n",
       "    }\n",
       "</style>\n",
       "<table border=\"1\" class=\"dataframe\">\n",
       "  <thead>\n",
       "    <tr style=\"text-align: right;\">\n",
       "      <th></th>\n",
       "      <th>x</th>\n",
       "      <th>y</th>\n",
       "    </tr>\n",
       "  </thead>\n",
       "  <tbody>\n",
       "    <tr>\n",
       "      <th>0</th>\n",
       "      <td>0.712721</td>\n",
       "      <td>0.701447</td>\n",
       "    </tr>\n",
       "    <tr>\n",
       "      <th>1</th>\n",
       "      <td>0.702840</td>\n",
       "      <td>0.711348</td>\n",
       "    </tr>\n",
       "    <tr>\n",
       "      <th>2</th>\n",
       "      <td>0.713558</td>\n",
       "      <td>0.700596</td>\n",
       "    </tr>\n",
       "    <tr>\n",
       "      <th>3</th>\n",
       "      <td>0.699895</td>\n",
       "      <td>0.714246</td>\n",
       "    </tr>\n",
       "    <tr>\n",
       "      <th>4</th>\n",
       "      <td>0.723432</td>\n",
       "      <td>0.690395</td>\n",
       "    </tr>\n",
       "  </tbody>\n",
       "</table>\n",
       "</div>"
      ],
      "text/plain": [
       "          x         y\n",
       "0  0.712721  0.701447\n",
       "1  0.702840  0.711348\n",
       "2  0.713558  0.700596\n",
       "3  0.699895  0.714246\n",
       "4  0.723432  0.690395"
      ]
     },
     "execution_count": 87,
     "metadata": {},
     "output_type": "execute_result"
    }
   ],
   "source": [
    "data_a=pd.DataFrame(data_a,columns=data_a.columns)\n",
    "data_a.head()"
   ]
  },
  {
   "cell_type": "code",
   "execution_count": null,
   "metadata": {},
   "outputs": [],
   "source": []
  }
 ],
 "metadata": {
  "kernelspec": {
   "display_name": "Python 3",
   "language": "python",
   "name": "python3"
  },
  "language_info": {
   "codemirror_mode": {
    "name": "ipython",
    "version": 3
   },
   "file_extension": ".py",
   "mimetype": "text/x-python",
   "name": "python",
   "nbconvert_exporter": "python",
   "pygments_lexer": "ipython3",
   "version": "3.8.8"
  }
 },
 "nbformat": 4,
 "nbformat_minor": 4
}
